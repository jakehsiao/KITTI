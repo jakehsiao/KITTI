{
 "cells": [
  {
   "cell_type": "code",
   "execution_count": 1,
   "metadata": {},
   "outputs": [],
   "source": [
    "import numpy as np\n",
    "#import pandas as pd\n",
    "import os.path\n",
    "import scipy\n",
    "import cv2\n",
    "import sys\n",
    "from lxml import etree\n",
    "\n",
    "#from caffeutil import *\n",
    "#from optimizerutil import *\n",
    "from xmlutil import *\n",
    "\n",
    "from matplotlib import pyplot as plt\n",
    "\n",
    "import glob\n",
    "\n",
    "from tqdm import tqdm\n",
    "\n",
    "%matplotlib inline"
   ]
  },
  {
   "cell_type": "markdown",
   "metadata": {},
   "source": [
    "## Funcs"
   ]
  },
  {
   "cell_type": "code",
   "execution_count": 2,
   "metadata": {},
   "outputs": [],
   "source": [
    "# tested\n",
    "def get_M(xml_info, width=300, x_start=200, x_end=6500, xt_min=10, xt_max=190, yt_min=0, yt_max=500):\n",
    "    # Test that\n",
    "\n",
    "    #xml_INFO = \"TSD-FVDM-Info/TSD-FVDM-00001-Info.xml\"\n",
    "    #M_RTK = parseInfo(xml_info)\n",
    "    #width   = width # width in cm\n",
    "    #x_start = x_start\n",
    "    #x_end   = x_end # go forward in cm\n",
    "    coord_3d = np.float32([\n",
    "        [x_start,-width,0], [x_start, width,0],\n",
    "        [x_end,  -width,0], [x_end,   width,0]\n",
    "    ]).reshape(-1,3)\n",
    "    #coord_6m = np.array([600., 0., 0.]).reshape(-1,3)\n",
    "    BEV_coord = {\n",
    "        \"coord_3d\":coord_3d,\n",
    "        \"coord_600cm\" : 0,\n",
    "    }\n",
    "    coord_3d = BEV_coord['coord_3d']\n",
    "    #coord_6m = BEV_coord['coord_600cm']\n",
    "\n",
    "    M_RTK = parseInfo(xml_info)\n",
    "    src,jac = cv2.projectPoints(coord_3d, M_RTK['R'],  M_RTK['T'], M_RTK['K'], M_RTK['D'] )\n",
    "    src = src[src[:,0,:].argsort(axis=0)[:,0],0,:]\n",
    "    #src_6m = cv2.projectPoints(coord_6m, M_RTK['R'],  M_RTK['T'], M_RTK['K'], M_RTK['D'] )[0][0][0]\n",
    "    #print(src)\n",
    "\n",
    "    dst = np.array([[[xt_min,yt_max], [xt_min,yt_min], [xt_max, yt_min], [xt_max, yt_max]]]).astype(np.float32)\n",
    "\n",
    "    #src_img = testimg.copy()\n",
    "    #cv2.line(src_img, tuple(src[0][0]), tuple(src[0][1]), (1,0,0), 10)\n",
    "    #cv2.line(src_img, tuplesrc[0][2], src[0][3], (1,0,0), 10)\n",
    "\n",
    "    #plt.imshow(src_img)\n",
    "    #plt.show()\n",
    "\n",
    "    M = cv2.getPerspectiveTransform(src, dst)\n",
    "    \n",
    "    return M\n",
    "\n",
    "#     testimg_t = cv2.warpPerspective(testimg, M, (200,500), cv2.WARP_INVERSE_MAP)\n",
    "#     plt.imshow(testimg_t)\n",
    "#     plt.show()\n",
    "    "
   ]
  },
  {
   "cell_type": "code",
   "execution_count": 3,
   "metadata": {},
   "outputs": [],
   "source": [
    "# tested\n",
    "def get_transformed_y(p1, M):\n",
    "    #p1 = np.array(p1)\n",
    "    p1 = np.hstack([p1, 1])\n",
    "    p1v = p1.reshape(-1, 1)\n",
    "    p1t = np.dot(M, p1v)\n",
    "    t = p1t[2][0]\n",
    "    #x = p1t[0] / t\n",
    "    y = p1t[1][0] / t\n",
    "    #print(x, y)\n",
    "    return y"
   ]
  },
  {
   "cell_type": "code",
   "execution_count": 4,
   "metadata": {},
   "outputs": [],
   "source": [
    "UNIT = 500"
   ]
  },
  {
   "cell_type": "code",
   "execution_count": 5,
   "metadata": {},
   "outputs": [],
   "source": [
    "def get_ymarks(M, M_RTK):\n",
    "    #M = M # TODO: change it to \"get m\"\n",
    "    coord_mark = np.zeros([6000//UNIT-1, 3])\n",
    "    coord_mark[:,0] = np.arange(1000,6001,UNIT)\n",
    "    #print(coord_mark)\n",
    "    #M_RTK = parseInfo(xml_INFO)\n",
    "    #M = get_M(xml_INFO)\n",
    "    src_mark,jac_mark = cv2.projectPoints(coord_mark, M_RTK['R'],  M_RTK['T'], M_RTK['K'], M_RTK['D'] )\n",
    "    #y_marks = src_mark[:, 0, 1]\n",
    "    y_marks = [get_transformed_y(src_mark[i][0], M) for i in range(src_mark.shape[0])]\n",
    "\n",
    "    return y_marks"
   ]
  },
  {
   "cell_type": "code",
   "execution_count": 6,
   "metadata": {},
   "outputs": [],
   "source": [
    "def get_ybox(box, M):\n",
    "    x = box[0]\n",
    "    y = box[1]\n",
    "    w = box[2]\n",
    "    h = box[3]\n",
    "    y_p = y + h\n",
    "    x_p = x + w * 0.5\n",
    "    return get_transformed_y(np.float32([x_p, y_p]), M)"
   ]
  },
  {
   "cell_type": "code",
   "execution_count": 7,
   "metadata": {},
   "outputs": [],
   "source": [
    "def get_dist(y_marks, y_box):  \n",
    "    dist = 6000 #init\n",
    "    for i in range(6000//UNIT - 1):\n",
    "        upper = y_marks[i]\n",
    "        lower = y_marks[i+1]\n",
    "        if lower <= y_box < upper:\n",
    "            #found = True\n",
    "            fraction = (upper - y_box) / (upper - lower)\n",
    "            dist = UNIT * (i + fraction)\n",
    "            return dist\n",
    "    return dist"
   ]
  },
  {
   "cell_type": "code",
   "execution_count": 8,
   "metadata": {},
   "outputs": [],
   "source": [
    "def get_iou(Reframe,GTframe):\n",
    "    \"\"\"\n",
    "    自定义函数，计算两矩形 IOU，传入为均为矩形对角线，（x,y）  坐标。·\n",
    "    \"\"\"\n",
    "    x1 = Reframe[0];\n",
    "    y1 = Reframe[1];\n",
    "    width1 = Reframe[2];\n",
    "    height1 = Reframe[3];\n",
    "    \n",
    "    x2 = GTframe[0];\n",
    "    y2 = GTframe[1];\n",
    "    width2 = GTframe[2];\n",
    "    height2 = GTframe[3];\n",
    "\n",
    "    endx = max(x1+width1,x2+width2);\n",
    "    startx = min(x1,x2);\n",
    "    width = width1+width2-(endx-startx);\n",
    "\n",
    "    endy = max(y1+height1,y2+height2);\n",
    "    starty = min(y1,y2);\n",
    "    height = height1+height2-(endy-starty);\n",
    "\n",
    "    if width <=0 or height <= 0:\n",
    "        ratio = 0 # 重叠率为 0 \n",
    "    else:\n",
    "        Area = width*height; # 两矩形相交面积\n",
    "        Area1 = width1*height1; \n",
    "        Area2 = width2*height2;\n",
    "        ratio = Area*1./(Area1+Area2-Area);\n",
    "    # return IOU\n",
    "    return ratio"
   ]
  },
  {
   "cell_type": "code",
   "execution_count": 9,
   "metadata": {},
   "outputs": [],
   "source": [
    "def get_car_id(box, id2box):\n",
    "    best_iou = 0\n",
    "    best_id = -1\n",
    "    for car_id in id2box:\n",
    "        car_box = id2box[car_id]\n",
    "        iou = get_iou(car_box, box)\n",
    "        if iou > best_iou:\n",
    "            best_iou = iou\n",
    "            best_id = car_id\n",
    "    if best_id != -1:\n",
    "        return best_id\n",
    "    \n",
    "    return len(id2box)"
   ]
  },
  {
   "cell_type": "code",
   "execution_count": 10,
   "metadata": {},
   "outputs": [
    {
     "name": "stderr",
     "output_type": "stream",
     "text": [
      "/Users/hoijanlai/.pyenv/versions/3.6.0/lib/python3.6/importlib/_bootstrap.py:205: RuntimeWarning: compiletime version 3.5 of module 'tensorflow.python.framework.fast_tensor_util' does not match runtime version 3.6\n",
      "  return f(*args, **kwds)\n"
     ]
    }
   ],
   "source": [
    "import tensorflow as tf\n",
    "PATH_TO_CKPT = os.path.join('graph_ok', 'frozen_inference_graph.pb')\n",
    "NUM_CLASSES = 1\n",
    "\n",
    "detection_graph = tf.Graph()\n",
    "with detection_graph.as_default():\n",
    "    od_graph_def = tf.GraphDef()\n",
    "    with tf.gfile.GFile(PATH_TO_CKPT, 'rb') as fid:\n",
    "        serialized_graph = fid.read()\n",
    "        od_graph_def.ParseFromString(serialized_graph)\n",
    "        tf.import_graph_def(od_graph_def, name='')\n",
    "\n",
    "with detection_graph.as_default():\n",
    "    with tf.Session(graph=detection_graph) as sess:\n",
    "        image_tensor = detection_graph.get_tensor_by_name('image_tensor:0')\n",
    "        detection_boxes = detection_graph.get_tensor_by_name('detection_boxes:0')\n",
    "        detection_scores = detection_graph.get_tensor_by_name('detection_scores:0')\n",
    "        detection_classes = detection_graph.get_tensor_by_name('detection_classes:0')        \n",
    "        num_detections = detection_graph.get_tensor_by_name('num_detections:0')\n",
    "        \n",
    "        \n",
    "real_box = lambda box, w, h : (int(box[1]*w), int(box[0]*h), int(box[3]*w)-int(box[1]*w), int(box[2]*h)-int(box[0]*h))\n",
    "\n",
    "def get_boxes(img_f, sess):\n",
    "    # TODO: get boxes\n",
    "    image = cv2.imread(img_f)\n",
    "    #image = cv2.cvtColor(image, cv2.COLOR_BGR2RGB)\n",
    "    h, w = image.shape[:2]\n",
    "    image_np_expanded = np.expand_dims(image, axis=0)\n",
    "\n",
    "    # 预测\n",
    "    (boxes, scores, classes, num) = sess.run(\n",
    "      [detection_boxes, detection_scores, detection_classes, num_detections],\n",
    "      feed_dict={image_tensor: image_np_expanded})\n",
    "\n",
    "    # 解析\n",
    "    indexes = np.where(scores.flatten()>0.4)\n",
    "    scores = scores.flatten()[indexes]\n",
    "    boxes = np.reshape(boxes, boxes.shape[1:])[indexes]\n",
    "    boxes = [real_box(box, w, h) for box in boxes]\n",
    "    return boxes # [(x, y, w, h), ...]"
   ]
  },
  {
   "cell_type": "code",
   "execution_count": 11,
   "metadata": {},
   "outputs": [],
   "source": [
    "from tqdm import tqdm"
   ]
  },
  {
   "cell_type": "code",
   "execution_count": 12,
   "metadata": {},
   "outputs": [],
   "source": [
    "def pipeline(set_num, pers_params={}):\n",
    "    xml_INFO =  \"TSD-FVDM-info/TSD-FVDM-%s-info.xml\"%set_num# get the path name according to the set num\n",
    "    M = get_M(xml_INFO, **pers_params)\n",
    "    #print(\"M:\", M)\n",
    "    y_marks_raw = get_ymarks(M, parseInfo(xml_INFO))\n",
    "    #print(\"y_marks\", y_marks_raw)\n",
    "    \n",
    "    image_files = glob.glob(\"TSD-FVDM/TSD-FVDM-%s/*.png\"%set_num) # get the image names\n",
    "    image_files = sorted(image_files, key = lambda x: int(x[-9:-4]))\n",
    "    \n",
    "    result = {}\n",
    "    \n",
    "    id2box = {}\n",
    "    \n",
    "    for img_f in tqdm(image_files):\n",
    "        frame_num =  img_f[-9:-4]\n",
    "        result[frame_num] = []\n",
    "        boxes = get_boxes(img_f, sess)# TODO(Peter): output the boxes(xmin, ymin, w, h) with input of image filename \n",
    "        boxes = sorted(boxes, key = lambda x: x[2] * x[3], reverse=True)\n",
    "        #y_max = plt.imread(img_f).shape[0] # better way of this?\n",
    "        y_max = pers_params[\"yt_max\"]\n",
    "        y_marks = np.hstack([y_max, y_marks_raw])\n",
    "        used_id = []\n",
    "        for box in boxes:\n",
    "            car_id = get_car_id(box, id2box)\n",
    "            if car_id in used_id:\n",
    "                car_id = len(used_id)\n",
    "            else:\n",
    "                used_id.append(car_id)\n",
    "            id2box[car_id] = box\n",
    "            y_box = get_ybox(box, M)\n",
    "            dist = get_dist(y_marks, y_box)\n",
    "            dist += pers_params[\"x_start\"]\n",
    "            # Convert to meter\n",
    "            dist = dist / 100.0\n",
    "            result[frame_num].append((car_id, box, dist)) # NOTE: append box for debugging\n",
    "            \n",
    "    return result\n",
    "        \n",
    "    "
   ]
  },
  {
   "cell_type": "code",
   "execution_count": 13,
   "metadata": {},
   "outputs": [],
   "source": [
    "# target 样例 (target_id, track_id, dist)\n",
    "#            (int, int, float)\n",
    "from lxml import etree\n",
    "\n",
    "def append_frame_targets_dists(root, frame_id, targets):\n",
    "    for i, target in enumerate(targets):\n",
    "        target_id, track_id, dist = target\n",
    "        item = etree.Element(\"Frame%sTarget%0.5d\"%(frame_id, i))\n",
    "        \n",
    "        id_stuff = etree.Element(\"ID\")\n",
    "        id_stuff.text = str(track_id)\n",
    "        \n",
    "        dist_stuff = etree.Element(\"Distance\")\n",
    "        dist_stuff.text = \"%f\"%dist\n",
    "        \n",
    "        \n",
    "        item.append(id_stuff)\n",
    "        item.append(dist_stuff)\n",
    "        \n",
    "        root.append(item)\n",
    "    return root\n",
    "\n",
    "def write_xml(result, set_name):\n",
    "    root = etree.Element('opencv_storage')\n",
    "    for frame_id in result:\n",
    "        targets = [(i, x[0], x[2]) for i,x in enumerate(result[frame_id])]\n",
    "        root = append_frame_targets_dists(root, frame_id, targets)\n",
    "\n",
    "    # debug\n",
    "    #set_name = \"00091\"\n",
    "\n",
    "    with open('TSD-FVDM-%s-Result.xml'%set_name, 'w') as f:\n",
    "        f.writelines(etree.tostring(root, pretty_print=True, encoding=\"gbk\").decode(\"gbk\"))  \n",
    "\n",
    "    with open('TSD-FVDM-%s-Result.xml'%set_name, 'r') as f:\n",
    "        lines = f.readlines()\n",
    "        lines[0] = lines[0].replace('\\'', '\"')\n",
    "    with open('TSD-FVDM-%s-Result.xml'%set_name, 'w') as f:\n",
    "        f.writelines(lines)"
   ]
  },
  {
   "cell_type": "code",
   "execution_count": 14,
   "metadata": {},
   "outputs": [],
   "source": [
    "from lxml import etree"
   ]
  },
  {
   "cell_type": "code",
   "execution_count": 15,
   "metadata": {},
   "outputs": [],
   "source": [
    "from io import StringIO, BytesIO"
   ]
  },
  {
   "cell_type": "code",
   "execution_count": 16,
   "metadata": {},
   "outputs": [],
   "source": [
    "def mse(dists_1, dists_2):\n",
    "    if len(dists_1) > len(dists_2):\n",
    "        dists_1, dists_2 = dists_2, dists_1\n",
    "    se = []\n",
    "    for d1 in dists_1:\n",
    "        best_se = 999\n",
    "        best_d2 = -1\n",
    "        for d2 in dists_2:\n",
    "            err = (d2 - d1) ** 2\n",
    "            if err < best_se:\n",
    "                best_se = err\n",
    "                best_d2 = d2\n",
    "        se.append(best_se)\n",
    "        if best_d2 != -1:\n",
    "            dists_2.remove(best_d2)\n",
    "    return np.mean(se)"
   ]
  },
  {
   "cell_type": "code",
   "execution_count": 17,
   "metadata": {},
   "outputs": [],
   "source": [
    "from collections import defaultdict\n",
    "\n",
    "def gather_dists(root):\n",
    "    frame_dists = defaultdict(list)\n",
    "    \n",
    "    for child in root.getchildren():\n",
    "        frame_id = child.tag[5:10]\n",
    "        frame_dists[frame_id].append(float(child.find(\"Distance\").text))\n",
    "        \n",
    "    return frame_dists\n",
    "        "
   ]
  },
  {
   "cell_type": "code",
   "execution_count": 18,
   "metadata": {},
   "outputs": [],
   "source": [
    "\n",
    "def get_mse(dists_gt, dists_pred):\n",
    "    se = []\n",
    "    for frame_id in dists_gt:\n",
    "        se.append(mse(dists_gt[frame_id], dists_pred[frame_id]))\n",
    "    return np.mean(se)\n",
    "        "
   ]
  },
  {
   "cell_type": "code",
   "execution_count": 19,
   "metadata": {
    "scrolled": false
   },
   "outputs": [
    {
     "name": "stderr",
     "output_type": "stream",
     "text": [
      "\r",
      "  0%|          | 0/96 [00:00<?, ?it/s]"
     ]
    },
    {
     "name": "stdout",
     "output_type": "stream",
     "text": [
      "00116 00121 00007 00031 00036 00009 00055 00052 00064 00037 00030 00006 00039 00012 00041 00046 00048 00014 00025 00022 00071 00047 00040 00102 00122 00114 00004 00066 00057 00034 00005 00056 00018 00011 00043 00010 00021 00019 00109 00107\n",
      "## Num of sets: 40\n",
      "## Params: {'yt_max': 500, 'width': 300, 'x_start': 400, 'x_end': 6000}\n",
      "## Set 00116 (0/40)\n"
     ]
    },
    {
     "name": "stderr",
     "output_type": "stream",
     "text": [
      "100%|██████████| 96/96 [00:25<00:00,  3.79it/s]\n",
      "  0%|          | 0/60 [00:00<?, ?it/s]"
     ]
    },
    {
     "name": "stdout",
     "output_type": "stream",
     "text": [
      "## Params: {'yt_max': 500, 'width': 300, 'x_start': 400, 'x_end': 6000}\n",
      "## Set 00121 (1/40)\n"
     ]
    },
    {
     "name": "stderr",
     "output_type": "stream",
     "text": [
      "100%|██████████| 60/60 [00:14<00:00,  4.05it/s]\n",
      "  0%|          | 0/47 [00:00<?, ?it/s]"
     ]
    },
    {
     "name": "stdout",
     "output_type": "stream",
     "text": [
      "## Params: {'yt_max': 500, 'width': 300, 'x_start': 400, 'x_end': 6000}\n",
      "## Set 00007 (2/40)\n"
     ]
    },
    {
     "name": "stderr",
     "output_type": "stream",
     "text": [
      "100%|██████████| 47/47 [00:12<00:00,  3.75it/s]\n",
      "  0%|          | 0/72 [00:00<?, ?it/s]"
     ]
    },
    {
     "name": "stdout",
     "output_type": "stream",
     "text": [
      "## Params: {'yt_max': 500, 'width': 300, 'x_start': 400, 'x_end': 6000}\n",
      "## Set 00031 (3/40)\n"
     ]
    },
    {
     "name": "stderr",
     "output_type": "stream",
     "text": [
      "100%|██████████| 72/72 [00:18<00:00,  3.84it/s]\n",
      "  0%|          | 0/72 [00:00<?, ?it/s]"
     ]
    },
    {
     "name": "stdout",
     "output_type": "stream",
     "text": [
      "## Params: {'yt_max': 500, 'width': 300, 'x_start': 400, 'x_end': 6000}\n",
      "## Set 00036 (4/40)\n"
     ]
    },
    {
     "name": "stderr",
     "output_type": "stream",
     "text": [
      "100%|██████████| 72/72 [00:17<00:00,  4.01it/s]\n",
      "  0%|          | 0/72 [00:00<?, ?it/s]"
     ]
    },
    {
     "name": "stdout",
     "output_type": "stream",
     "text": [
      "## Params: {'yt_max': 500, 'width': 300, 'x_start': 400, 'x_end': 6000}\n",
      "## Set 00009 (5/40)\n"
     ]
    },
    {
     "name": "stderr",
     "output_type": "stream",
     "text": [
      "100%|██████████| 72/72 [00:19<00:00,  3.75it/s]\n",
      "  0%|          | 0/68 [00:00<?, ?it/s]"
     ]
    },
    {
     "name": "stdout",
     "output_type": "stream",
     "text": [
      "## Params: {'yt_max': 500, 'width': 300, 'x_start': 400, 'x_end': 6000}\n",
      "## Set 00055 (6/40)\n"
     ]
    },
    {
     "name": "stderr",
     "output_type": "stream",
     "text": [
      "100%|██████████| 68/68 [00:17<00:00,  3.79it/s]\n",
      "  0%|          | 0/68 [00:00<?, ?it/s]"
     ]
    },
    {
     "name": "stdout",
     "output_type": "stream",
     "text": [
      "## Params: {'yt_max': 500, 'width': 300, 'x_start': 400, 'x_end': 6000}\n",
      "## Set 00052 (7/40)\n"
     ]
    },
    {
     "name": "stderr",
     "output_type": "stream",
     "text": [
      "100%|██████████| 68/68 [00:18<00:00,  3.63it/s]\n",
      "  0%|          | 0/72 [00:00<?, ?it/s]"
     ]
    },
    {
     "name": "stdout",
     "output_type": "stream",
     "text": [
      "## Params: {'yt_max': 500, 'width': 300, 'x_start': 400, 'x_end': 6000}\n",
      "## Set 00064 (8/40)\n"
     ]
    },
    {
     "name": "stderr",
     "output_type": "stream",
     "text": [
      "100%|██████████| 72/72 [00:17<00:00,  4.20it/s]\n",
      "  0%|          | 0/120 [00:00<?, ?it/s]"
     ]
    },
    {
     "name": "stdout",
     "output_type": "stream",
     "text": [
      "## Params: {'yt_max': 500, 'width': 300, 'x_start': 400, 'x_end': 6000}\n",
      "## Set 00037 (9/40)\n"
     ]
    },
    {
     "name": "stderr",
     "output_type": "stream",
     "text": [
      "100%|██████████| 120/120 [00:33<00:00,  3.54it/s]\n",
      "  0%|          | 0/72 [00:00<?, ?it/s]"
     ]
    },
    {
     "name": "stdout",
     "output_type": "stream",
     "text": [
      "## Params: {'yt_max': 500, 'width': 300, 'x_start': 400, 'x_end': 6000}\n",
      "## Set 00030 (10/40)\n"
     ]
    },
    {
     "name": "stderr",
     "output_type": "stream",
     "text": [
      "100%|██████████| 72/72 [00:19<00:00,  3.60it/s]\n",
      "  0%|          | 0/96 [00:00<?, ?it/s]"
     ]
    },
    {
     "name": "stdout",
     "output_type": "stream",
     "text": [
      "## Params: {'yt_max': 500, 'width': 300, 'x_start': 400, 'x_end': 6000}\n",
      "## Set 00006 (11/40)\n"
     ]
    },
    {
     "name": "stderr",
     "output_type": "stream",
     "text": [
      "100%|██████████| 96/96 [00:25<00:00,  3.72it/s]\n",
      "  0%|          | 0/72 [00:00<?, ?it/s]"
     ]
    },
    {
     "name": "stdout",
     "output_type": "stream",
     "text": [
      "## Params: {'yt_max': 500, 'width': 300, 'x_start': 400, 'x_end': 6000}\n",
      "## Set 00039 (12/40)\n"
     ]
    },
    {
     "name": "stderr",
     "output_type": "stream",
     "text": [
      "100%|██████████| 72/72 [00:19<00:00,  3.71it/s]\n",
      "  0%|          | 0/120 [00:00<?, ?it/s]"
     ]
    },
    {
     "name": "stdout",
     "output_type": "stream",
     "text": [
      "## Params: {'yt_max': 500, 'width': 300, 'x_start': 400, 'x_end': 6000}\n",
      "## Set 00012 (13/40)\n"
     ]
    },
    {
     "name": "stderr",
     "output_type": "stream",
     "text": [
      "100%|██████████| 120/120 [00:31<00:00,  3.82it/s]\n",
      "  0%|          | 0/72 [00:00<?, ?it/s]"
     ]
    },
    {
     "name": "stdout",
     "output_type": "stream",
     "text": [
      "## Params: {'yt_max': 500, 'width': 300, 'x_start': 400, 'x_end': 6000}\n",
      "## Set 00041 (14/40)\n"
     ]
    },
    {
     "name": "stderr",
     "output_type": "stream",
     "text": [
      "100%|██████████| 72/72 [00:19<00:00,  3.79it/s]\n",
      "  0%|          | 0/72 [00:00<?, ?it/s]"
     ]
    },
    {
     "name": "stdout",
     "output_type": "stream",
     "text": [
      "## Params: {'yt_max': 500, 'width': 300, 'x_start': 400, 'x_end': 6000}\n",
      "## Set 00046 (15/40)\n"
     ]
    },
    {
     "name": "stderr",
     "output_type": "stream",
     "text": [
      "100%|██████████| 72/72 [00:19<00:00,  3.68it/s]\n",
      "  0%|          | 0/60 [00:00<?, ?it/s]"
     ]
    },
    {
     "name": "stdout",
     "output_type": "stream",
     "text": [
      "## Params: {'yt_max': 500, 'width': 300, 'x_start': 400, 'x_end': 6000}\n",
      "## Set 00048 (16/40)\n"
     ]
    },
    {
     "name": "stderr",
     "output_type": "stream",
     "text": [
      "100%|██████████| 60/60 [00:16<00:00,  3.67it/s]\n",
      "  0%|          | 0/72 [00:00<?, ?it/s]"
     ]
    },
    {
     "name": "stdout",
     "output_type": "stream",
     "text": [
      "## Params: {'yt_max': 500, 'width': 300, 'x_start': 400, 'x_end': 6000}\n",
      "## Set 00014 (17/40)\n"
     ]
    },
    {
     "name": "stderr",
     "output_type": "stream",
     "text": [
      "100%|██████████| 72/72 [00:19<00:00,  3.69it/s]\n",
      "  0%|          | 0/68 [00:00<?, ?it/s]"
     ]
    },
    {
     "name": "stdout",
     "output_type": "stream",
     "text": [
      "## Params: {'yt_max': 500, 'width': 300, 'x_start': 400, 'x_end': 6000}\n",
      "## Set 00025 (18/40)\n"
     ]
    },
    {
     "name": "stderr",
     "output_type": "stream",
     "text": [
      "100%|██████████| 68/68 [00:18<00:00,  3.72it/s]\n",
      "  0%|          | 0/72 [00:00<?, ?it/s]"
     ]
    },
    {
     "name": "stdout",
     "output_type": "stream",
     "text": [
      "## Params: {'yt_max': 500, 'width': 300, 'x_start': 400, 'x_end': 6000}\n",
      "## Set 00022 (19/40)\n"
     ]
    },
    {
     "name": "stderr",
     "output_type": "stream",
     "text": [
      "100%|██████████| 72/72 [00:19<00:00,  3.61it/s]\n",
      "  0%|          | 0/84 [00:00<?, ?it/s]"
     ]
    },
    {
     "name": "stdout",
     "output_type": "stream",
     "text": [
      "## Params: {'yt_max': 500, 'width': 300, 'x_start': 400, 'x_end': 6000}\n",
      "## Set 00071 (20/40)\n"
     ]
    },
    {
     "name": "stderr",
     "output_type": "stream",
     "text": [
      "100%|██████████| 84/84 [00:22<00:00,  3.79it/s]\n",
      "  0%|          | 0/72 [00:00<?, ?it/s]"
     ]
    },
    {
     "name": "stdout",
     "output_type": "stream",
     "text": [
      "## Params: {'yt_max': 500, 'width': 300, 'x_start': 400, 'x_end': 6000}\n",
      "## Set 00047 (21/40)\n"
     ]
    },
    {
     "name": "stderr",
     "output_type": "stream",
     "text": [
      "100%|██████████| 72/72 [00:18<00:00,  3.99it/s]\n",
      "  0%|          | 0/64 [00:00<?, ?it/s]"
     ]
    },
    {
     "name": "stdout",
     "output_type": "stream",
     "text": [
      "## Params: {'yt_max': 500, 'width': 300, 'x_start': 400, 'x_end': 6000}\n",
      "## Set 00040 (22/40)\n"
     ]
    },
    {
     "name": "stderr",
     "output_type": "stream",
     "text": [
      "100%|██████████| 64/64 [00:16<00:00,  3.88it/s]\n",
      "  0%|          | 0/72 [00:00<?, ?it/s]"
     ]
    },
    {
     "name": "stdout",
     "output_type": "stream",
     "text": [
      "## Params: {'yt_max': 500, 'width': 300, 'x_start': 400, 'x_end': 6000}\n",
      "## Set 00102 (23/40)\n"
     ]
    },
    {
     "name": "stderr",
     "output_type": "stream",
     "text": [
      "100%|██████████| 72/72 [00:20<00:00,  3.60it/s]\n",
      "  0%|          | 0/72 [00:00<?, ?it/s]"
     ]
    },
    {
     "name": "stdout",
     "output_type": "stream",
     "text": [
      "## Params: {'yt_max': 500, 'width': 300, 'x_start': 400, 'x_end': 6000}\n",
      "## Set 00122 (24/40)\n"
     ]
    },
    {
     "name": "stderr",
     "output_type": "stream",
     "text": [
      "100%|██████████| 72/72 [00:19<00:00,  3.63it/s]\n",
      "  0%|          | 0/96 [00:00<?, ?it/s]"
     ]
    },
    {
     "name": "stdout",
     "output_type": "stream",
     "text": [
      "## Params: {'yt_max': 500, 'width': 300, 'x_start': 400, 'x_end': 6000}\n",
      "## Set 00114 (25/40)\n"
     ]
    },
    {
     "name": "stderr",
     "output_type": "stream",
     "text": [
      "100%|██████████| 96/96 [00:24<00:00,  3.84it/s]\n",
      "  0%|          | 0/82 [00:00<?, ?it/s]"
     ]
    },
    {
     "name": "stdout",
     "output_type": "stream",
     "text": [
      "## Params: {'yt_max': 500, 'width': 300, 'x_start': 400, 'x_end': 6000}\n",
      "## Set 00004 (26/40)\n"
     ]
    },
    {
     "name": "stderr",
     "output_type": "stream",
     "text": [
      "100%|██████████| 82/82 [00:21<00:00,  3.77it/s]\n",
      "  0%|          | 0/84 [00:00<?, ?it/s]"
     ]
    },
    {
     "name": "stdout",
     "output_type": "stream",
     "text": [
      "## Params: {'yt_max': 500, 'width': 300, 'x_start': 400, 'x_end': 6000}\n",
      "## Set 00066 (27/40)\n"
     ]
    },
    {
     "name": "stderr",
     "output_type": "stream",
     "text": [
      "100%|██████████| 84/84 [00:19<00:00,  4.27it/s]\n",
      "  0%|          | 0/72 [00:00<?, ?it/s]"
     ]
    },
    {
     "name": "stdout",
     "output_type": "stream",
     "text": [
      "## Params: {'yt_max': 500, 'width': 300, 'x_start': 400, 'x_end': 6000}\n",
      "## Set 00057 (28/40)\n"
     ]
    },
    {
     "name": "stderr",
     "output_type": "stream",
     "text": [
      "100%|██████████| 72/72 [00:19<00:00,  3.75it/s]\n",
      "  0%|          | 0/72 [00:00<?, ?it/s]"
     ]
    },
    {
     "name": "stdout",
     "output_type": "stream",
     "text": [
      "## Params: {'yt_max': 500, 'width': 300, 'x_start': 400, 'x_end': 6000}\n",
      "## Set 00034 (29/40)\n"
     ]
    },
    {
     "name": "stderr",
     "output_type": "stream",
     "text": [
      "100%|██████████| 72/72 [00:20<00:00,  3.49it/s]\n",
      "  0%|          | 0/72 [00:00<?, ?it/s]"
     ]
    },
    {
     "name": "stdout",
     "output_type": "stream",
     "text": [
      "## Params: {'yt_max': 500, 'width': 300, 'x_start': 400, 'x_end': 6000}\n",
      "## Set 00005 (30/40)\n"
     ]
    },
    {
     "name": "stderr",
     "output_type": "stream",
     "text": [
      "100%|██████████| 72/72 [00:20<00:00,  3.57it/s]\n",
      "  0%|          | 0/72 [00:00<?, ?it/s]"
     ]
    },
    {
     "name": "stdout",
     "output_type": "stream",
     "text": [
      "## Params: {'yt_max': 500, 'width': 300, 'x_start': 400, 'x_end': 6000}\n",
      "## Set 00056 (31/40)\n"
     ]
    },
    {
     "name": "stderr",
     "output_type": "stream",
     "text": [
      "100%|██████████| 72/72 [00:18<00:00,  3.89it/s]\n",
      "  0%|          | 0/61 [00:00<?, ?it/s]"
     ]
    },
    {
     "name": "stdout",
     "output_type": "stream",
     "text": [
      "## Params: {'yt_max': 500, 'width': 300, 'x_start': 400, 'x_end': 6000}\n",
      "## Set 00018 (32/40)\n"
     ]
    },
    {
     "name": "stderr",
     "output_type": "stream",
     "text": [
      "100%|██████████| 61/61 [00:17<00:00,  3.52it/s]\n",
      "  0%|          | 0/84 [00:00<?, ?it/s]"
     ]
    },
    {
     "name": "stdout",
     "output_type": "stream",
     "text": [
      "## Params: {'yt_max': 500, 'width': 300, 'x_start': 400, 'x_end': 6000}\n",
      "## Set 00011 (33/40)\n"
     ]
    },
    {
     "name": "stderr",
     "output_type": "stream",
     "text": [
      "100%|██████████| 84/84 [00:21<00:00,  3.85it/s]\n",
      "  0%|          | 0/64 [00:00<?, ?it/s]"
     ]
    },
    {
     "name": "stdout",
     "output_type": "stream",
     "text": [
      "## Params: {'yt_max': 500, 'width': 300, 'x_start': 400, 'x_end': 6000}\n",
      "## Set 00043 (34/40)\n"
     ]
    },
    {
     "name": "stderr",
     "output_type": "stream",
     "text": [
      "100%|██████████| 64/64 [00:17<00:00,  3.68it/s]\n",
      "  0%|          | 0/50 [00:00<?, ?it/s]"
     ]
    },
    {
     "name": "stdout",
     "output_type": "stream",
     "text": [
      "## Params: {'yt_max': 500, 'width': 300, 'x_start': 400, 'x_end': 6000}\n",
      "## Set 00010 (35/40)\n"
     ]
    },
    {
     "name": "stderr",
     "output_type": "stream",
     "text": [
      "100%|██████████| 50/50 [00:14<00:00,  3.43it/s]\n",
      "  0%|          | 0/72 [00:00<?, ?it/s]"
     ]
    },
    {
     "name": "stdout",
     "output_type": "stream",
     "text": [
      "## Params: {'yt_max': 500, 'width': 300, 'x_start': 400, 'x_end': 6000}\n",
      "## Set 00021 (36/40)\n"
     ]
    },
    {
     "name": "stderr",
     "output_type": "stream",
     "text": [
      "100%|██████████| 72/72 [00:20<00:00,  3.51it/s]\n",
      "  0%|          | 0/72 [00:00<?, ?it/s]"
     ]
    },
    {
     "name": "stdout",
     "output_type": "stream",
     "text": [
      "## Params: {'yt_max': 500, 'width': 300, 'x_start': 400, 'x_end': 6000}\n",
      "## Set 00019 (37/40)\n"
     ]
    },
    {
     "name": "stderr",
     "output_type": "stream",
     "text": [
      "100%|██████████| 72/72 [00:20<00:00,  3.57it/s]\n",
      "  0%|          | 0/84 [00:00<?, ?it/s]"
     ]
    },
    {
     "name": "stdout",
     "output_type": "stream",
     "text": [
      "## Params: {'yt_max': 500, 'width': 300, 'x_start': 400, 'x_end': 6000}\n",
      "## Set 00109 (38/40)\n"
     ]
    },
    {
     "name": "stderr",
     "output_type": "stream",
     "text": [
      "100%|██████████| 84/84 [00:22<00:00,  3.76it/s]\n",
      "  0%|          | 0/96 [00:00<?, ?it/s]"
     ]
    },
    {
     "name": "stdout",
     "output_type": "stream",
     "text": [
      "## Params: {'yt_max': 500, 'width': 300, 'x_start': 400, 'x_end': 6000}\n",
      "## Set 00107 (39/40)\n"
     ]
    },
    {
     "name": "stderr",
     "output_type": "stream",
     "text": [
      "100%|██████████| 96/96 [00:25<00:00,  3.70it/s]\n"
     ]
    }
   ],
   "source": [
    "# Main\n",
    "set_names = glob.glob(\"TSD-FVDM/*\")\n",
    "set_names = [i[-5:] for i in set_names]\n",
    "print(\" \".join(set_names))\n",
    "print(\"## Num of sets:\", len(set_names))\n",
    "num_of_sets = len(set_names)\n",
    "\n",
    "params_best = {\n",
    "    \"yt_max\":500,\n",
    "    \"width\":300,\n",
    "    \"x_start\":400,\n",
    "    \"x_end\":6000,\n",
    "    \n",
    "}\n",
    "\n",
    "# debug\n",
    "#set_names = [\"00001\", \"00091\", \"00081\"]\n",
    "\n",
    "for i, set_name in enumerate(set_names):\n",
    "    # width, x_start, x_end\n",
    "    #for params in pers_params_list:\n",
    "    print(\"## Params:\", params_best)\n",
    "    print(\"## Set %s (%d/%d)\"%(set_name, i, num_of_sets))\n",
    "    result = pipeline(set_name, params_best)\n",
    "    write_xml(result, set_name)"
   ]
  },
  {
   "cell_type": "code",
   "execution_count": null,
   "metadata": {},
   "outputs": [],
   "source": []
  }
 ],
 "metadata": {
  "kernelspec": {
   "display_name": "playground",
   "language": "python",
   "name": "playground"
  },
  "language_info": {
   "codemirror_mode": {
    "name": "ipython",
    "version": 3
   },
   "file_extension": ".py",
   "mimetype": "text/x-python",
   "name": "python",
   "nbconvert_exporter": "python",
   "pygments_lexer": "ipython3",
   "version": "3.6.0"
  }
 },
 "nbformat": 4,
 "nbformat_minor": 2
}
